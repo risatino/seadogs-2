{
 "cells": [
  {
   "cell_type": "markdown",
   "metadata": {},
   "source": [
    "##READ IN JSON DATA FROM FLASK API"
   ]
  },
  {
   "cell_type": "code",
   "execution_count": 1,
   "metadata": {
    "collapsed": true
   },
   "outputs": [],
   "source": [
    "#Import dependencies\n",
    "\n",
    "import json\n",
    "import numpy as np\n",
    "import matplotlib.pyplot as plt\n",
    "import plotly\n",
    "import plotly.plotly as py\n",
    "import plotly.graph_objs as go\n",
    "import urllib\n",
    "import json\n",
    "from urllib import request\n",
    "import pandas as pd\n",
    "\n",
    "#establish API urls for JSON conversion to pandas dataframe\n",
    "\n",
    "url = 'http://127.0.0.1:5000/population_urban'\n",
    "url1 = 'http://127.0.0.1:5000/population_suburban'\n",
    "url2 = 'http://127.0.0.1:5000/population_total'\n",
    "url3 = 'http://127.0.0.1:5000/employment_urban'\n",
    "url4 = 'http://127.0.0.1:5000/employment_suburban'\n",
    "url5 = 'http://127.0.0.1:5000/employment_total'"
   ]
  },
  {
   "cell_type": "code",
   "execution_count": 2,
   "metadata": {
    "collapsed": true
   },
   "outputs": [],
   "source": [
    "#read in JSON Data\n",
    "\n",
    "#url - population urban\n",
    "u = urllib.request.urlopen(url)\n",
    "pop_urb = u.read()\n",
    "\n",
    "#url - population suburban\n",
    "a = urllib.request.urlopen(url1)\n",
    "pop_sub = a.read()\n",
    "\n",
    "#url - population total\n",
    "b = urllib.request.urlopen(url2)\n",
    "pop_tot = b.read()\n",
    "\n",
    "#url - employment urban\n",
    "c = urllib.request.urlopen(url3)\n",
    "emp_urb = c.read()\n",
    "\n",
    "#url - employment suburban\n",
    "d = urllib.request.urlopen(url4)\n",
    "emp_sub = d.read()\n",
    "\n",
    "#url - employment total\n",
    "e = urllib.request.urlopen(url5)\n",
    "emp_tot = e.read()\n"
   ]
  },
  {
   "cell_type": "code",
   "execution_count": 3,
   "metadata": {
    "collapsed": true
   },
   "outputs": [],
   "source": [
    "#convert JSON to DF\n",
    "\n",
    "df = pd.DataFrame(eval(pop_urb))\n",
    "df_PS = pd.DataFrame(eval(pop_sub))\n",
    "df_PT = pd.DataFrame(eval(pop_tot))\n",
    "df_EU = pd.DataFrame(eval(emp_urb))\n",
    "df_ES = pd.DataFrame(eval(emp_sub))\n",
    "df_ET = pd.DataFrame(eval(emp_tot))"
   ]
  },
  {
   "cell_type": "markdown",
   "metadata": {},
   "source": [
    "##DATAFRAME OPERATIONS"
   ]
  },
  {
   "cell_type": "code",
   "execution_count": 4,
   "metadata": {
    "collapsed": true
   },
   "outputs": [],
   "source": [
    "#setting order of DFs and setting region as index\n",
    "\n",
    "df = df[[\"region\", \"pop_density\", \"lat\", \"long\", \"cbsa_code\",\"1970\",\"1971\",\"1972\",\"1973\",\"1974\",\"1975\",\"1976\",\"1977\",\"1978\",\"1979\",\"1980\",\"1981\",\"1982\",\"1983\",\"1984\",\"1985\",\"1986\",\"1987\",\"1988\",\"1989\",\"1990\",\"1991\",\"1992\",\"1993\",\"1994\",\"1995\",\"1996\",\"1997\",\"1998\",\"1999\",\"2000\",\"2001\",\"2002\",\"2003\",\"2004\",\"2005\",\"2006\",\"2007\",\"2008\",\"2009\",\"2010\",\"2011\",\"2012\",\"2013\",\"2014\",\"2015\",\"2016\",\"2017\"]]\n",
    "df.set_index('region', inplace=True)\n",
    "\n",
    "df_PS = df_PS[[\"region\", \"pop_density\", \"lat\", \"long\", \"cbsa_code\",\"1970\",\"1971\",\"1972\",\"1973\",\"1974\",\"1975\",\"1976\",\"1977\",\"1978\",\"1979\",\"1980\",\"1981\",\"1982\",\"1983\",\"1984\",\"1985\",\"1986\",\"1987\",\"1988\",\"1989\",\"1990\",\"1991\",\"1992\",\"1993\",\"1994\",\"1995\",\"1996\",\"1997\",\"1998\",\"1999\",\"2000\",\"2001\",\"2002\",\"2003\",\"2004\",\"2005\",\"2006\",\"2007\",\"2008\",\"2009\",\"2010\",\"2011\",\"2012\",\"2013\",\"2014\",\"2015\",\"2016\",\"2017\"]]\n",
    "df_PS.set_index('region', inplace=True)\n",
    "\n",
    "df_PT = df_PT[[\"region\", \"pop_density\", \"lat\", \"long\", \"cbsa_code\",\"1970\",\"1971\",\"1972\",\"1973\",\"1974\",\"1975\",\"1976\",\"1977\",\"1978\",\"1979\",\"1980\",\"1981\",\"1982\",\"1983\",\"1984\",\"1985\",\"1986\",\"1987\",\"1988\",\"1989\",\"1990\",\"1991\",\"1992\",\"1993\",\"1994\",\"1995\",\"1996\",\"1997\",\"1998\",\"1999\",\"2000\",\"2001\",\"2002\",\"2003\",\"2004\",\"2005\",\"2006\",\"2007\",\"2008\",\"2009\",\"2010\",\"2011\",\"2012\",\"2013\",\"2014\",\"2015\",\"2016\",\"2017\"]]\n",
    "df_PT.set_index('region', inplace=True)\n",
    "\n",
    "df_EU = df_EU[[\"region\", \"pop_density\", \"lat\", \"long\", \"cbsa_code\",\"1990\",\"1991\",\"1992\",\"1993\",\"1994\",\"1995\",\"1996\",\"1997\",\"1998\",\"1999\",\"2000\",\"2001\",\"2002\",\"2003\",\"2004\",\"2005\",\"2006\",\"2007\",\"2008\",\"2009\",\"2010\",\"2011\",\"2012\",\"2013\",\"2014\",\"2015\",\"2016\",\"2017\"]]\n",
    "df_EU.set_index('region', inplace=True)\n",
    "\n",
    "df_ES = df_ES[[\"region\", \"pop_density\", \"lat\", \"long\", \"cbsa_code\",\"1990\",\"1991\",\"1992\",\"1993\",\"1994\",\"1995\",\"1996\",\"1997\",\"1998\",\"1999\",\"2000\",\"2001\",\"2002\",\"2003\",\"2004\",\"2005\",\"2006\",\"2007\",\"2008\",\"2009\",\"2010\",\"2011\",\"2012\",\"2013\",\"2014\",\"2015\",\"2016\",\"2017\"]]\n",
    "df_ES.set_index('region', inplace=True)\n",
    "\n",
    "df_ET = df_ET[[\"region\", \"pop_density\", \"lat\", \"long\", \"cbsa_code\",\"1990\",\"1991\",\"1992\",\"1993\",\"1994\",\"1995\",\"1996\",\"1997\",\"1998\",\"1999\",\"2000\",\"2001\",\"2002\",\"2003\",\"2004\",\"2005\",\"2006\",\"2007\",\"2008\",\"2009\",\"2010\",\"2011\",\"2012\",\"2013\",\"2014\",\"2015\",\"2016\",\"2017\"]]\n",
    "df_ET.set_index('region', inplace=True)\n"
   ]
  },
  {
   "cell_type": "code",
   "execution_count": 5,
   "metadata": {
    "collapsed": true
   },
   "outputs": [],
   "source": [
    "#establish list of columns that need to be coverted to numeric so that they can be charted\n",
    "\n",
    "cols = [\"pop_density\",\"1970\",\"1971\",\"1972\",\"1973\",\"1974\",\"1975\",\"1976\",\"1977\",\"1978\",\"1979\",\"1980\",\"1981\",\"1982\",\"1983\",\"1984\",\"1985\",\"1986\",\"1987\",\"1988\",\"1989\",\"1990\",\"1991\",\"1992\",\"1993\",\"1994\",\"1995\",\"1996\",\"1997\",\"1998\",\"1999\",\"2000\",\"2001\",\"2002\",\"2003\",\"2004\",\"2005\",\"2006\",\"2007\",\"2008\",\"2009\",\"2010\",\"2011\",\"2012\",\"2013\",\"2014\",\"2015\",\"2016\",\"2017\"]\n",
    "cols1 = [\"pop_density\",\"1990\",\"1991\",\"1992\",\"1993\",\"1994\",\"1995\",\"1996\",\"1997\",\"1998\",\"1999\",\"2000\",\"2001\",\"2002\",\"2003\",\"2004\",\"2005\",\"2006\",\"2007\",\"2008\",\"2009\",\"2010\",\"2011\",\"2012\",\"2013\",\"2014\",\"2015\",\"2016\",\"2017\"]\n",
    "\n",
    "#replacing commas in population DFs to help with conversion to numeric\n",
    "\n",
    "df[cols] = df[cols].replace({ ',': ''}, regex=True)\n",
    "df_PS[cols] = df_PS[cols].replace({ ',': ''}, regex=True)\n",
    "df_PT[cols] = df_PT[cols].replace({ ',': ''}, regex=True)\n",
    "\n",
    "#replacing commas in employment DFs to help with conversion to numeric\n",
    "\n",
    "df_EU[cols1] = df_EU[cols1].replace({ ',': ''}, regex=True)\n",
    "df_ES[cols1] = df_ES[cols1].replace({ ',': ''}, regex=True)\n",
    "df_ET[cols1] = df_ET[cols1].replace({ ',': ''}, regex=True)"
   ]
  },
  {
   "cell_type": "code",
   "execution_count": 6,
   "metadata": {
    "collapsed": true
   },
   "outputs": [],
   "source": [
    "#replace '0' string with NaN in population DF\n",
    "\n",
    "df[cols] = df[cols].replace({'0':np.nan, 0:np.nan})\n",
    "df_PS[cols] = df_PS[cols].replace({'0':np.nan, 0:np.nan})\n",
    "df_PT[cols] = df_PT[cols].replace({'0':np.nan, 0:np.nan})\n",
    "\n",
    "#replace '0' string with NaN in employment DF\n",
    "\n",
    "df_EU[cols1] = df_EU[cols1].replace({'0':np.nan, 0:np.nan})\n",
    "df_ES[cols1] = df_ES[cols1].replace({'0':np.nan, 0:np.nan})\n",
    "df_ET[cols1] = df_ET[cols1].replace({'0':np.nan, 0:np.nan})"
   ]
  },
  {
   "cell_type": "code",
   "execution_count": 7,
   "metadata": {
    "collapsed": true
   },
   "outputs": [],
   "source": [
    "#convert all tables to numeric\n",
    "df[cols] = df[cols].apply(pd.to_numeric, errors='coerce')\n",
    "df_PS[cols] = df_PS[cols].apply(pd.to_numeric, errors='coerce')\n",
    "df_PT[cols] = df_PT[cols].apply(pd.to_numeric, errors='coerce')\n",
    "\n",
    "#convert all tables to numeric\n",
    "df_EU[cols1] = df_EU[cols1].apply(pd.to_numeric, errors='coerce')\n",
    "df_ES[cols1] = df_ES[cols1].apply(pd.to_numeric, errors='coerce')\n",
    "df_ET[cols1] = df_ET[cols1].apply(pd.to_numeric, errors='coerce')"
   ]
  },
  {
   "cell_type": "code",
   "execution_count": 8,
   "metadata": {
    "collapsed": true
   },
   "outputs": [],
   "source": [
    "#Concatenate Pop_Urban and Pop_Suburban for visual purposes\n",
    "\n",
    "combine_population = [df, df_PS]\n",
    "combine_employment = [df_EU, df_ES]\n",
    "df_UrbSub_Pop = pd.concat(combine_population)\n",
    "df_UrbSub_Emp = pd.concat(combine_employment)"
   ]
  },
  {
   "cell_type": "code",
   "execution_count": 9,
   "metadata": {
    "collapsed": true
   },
   "outputs": [],
   "source": [
    "#add column that calculates growth from 1970-2017 for population\n",
    "df_UrbSub_Pop['Growth'] =  (df_UrbSub_Pop['2017'] - df_UrbSub_Pop['1970']) / (df_UrbSub_Pop['1970'])\n",
    "df_UrbSub_Emp['Growth'] =  (df_UrbSub_Emp['2017'] - df_UrbSub_Emp['1990']) / (df_UrbSub_Emp['1990'])"
   ]
  },
  {
   "cell_type": "code",
   "execution_count": 46,
   "metadata": {
    "collapsed": true
   },
   "outputs": [],
   "source": [
    "#calculate growth seperately in each population DF\n",
    "df['Growth'] =  (df['2017'] - df['1970']) / (df['1970'])\n",
    "df_PS['Growth'] =  (df_PS['2017'] - df_PS['1970']) / (df_PS['1970'])\n",
    "\n",
    "#calculate growth separately in each employment DF\n",
    "df_EU['Growth'] =  (df_EU['2017'] - df_EU['1990']) / (df_EU['1990'])\n",
    "df_ES['Growth'] =  (df_ES['2017'] - df_ES['1990']) / (df_ES['1990'])"
   ]
  },
  {
   "cell_type": "code",
   "execution_count": 48,
   "metadata": {},
   "outputs": [],
   "source": [
    "#add in urban / suburban column field for heatmap - employment\n",
    "\n",
    "df['Category'] = 'Urban'\n",
    "df_PS['Category'] = 'Suburban'\n",
    "\n",
    "df['cbsa'] = df.index.str[:7]\n",
    "df_PS['cbsa'] = df_PS.index.str[:7]\n",
    "\n",
    "combine_population2 = [df, df_PS]\n",
    "\n",
    "#add in urban / suburban column field for heatmap - employment\n",
    "\n",
    "df_EU['Category'] = 'Urban'\n",
    "df_ES['Category'] = 'Suburban'\n",
    "\n",
    "df_EU['cbsa'] = df_EU.index.str[:7]\n",
    "df_ES['cbsa'] = df_ES.index.str[:7]\n",
    "\n",
    "combine_employment2 = [df_EU, df_ES]\n",
    "\n",
    "\n",
    "df_UrbSub_Pop2 = pd.concat(combine_population2)\n",
    "df_UrbSub_Emp2 = pd.concat(combine_employment2)"
   ]
  },
  {
   "cell_type": "code",
   "execution_count": null,
   "metadata": {
    "collapsed": true
   },
   "outputs": [],
   "source": [
    "#transposes data for nice annual line charts by market\n",
    "\n",
    "urbPop_Trans = df.transpose()"
   ]
  },
  {
   "cell_type": "markdown",
   "metadata": {},
   "source": [
    "##EMPLOYMENT AND POPULATION VISUALS "
   ]
  },
  {
   "cell_type": "code",
   "execution_count": 49,
   "metadata": {},
   "outputs": [
    {
     "data": {
      "text/html": [
       "<iframe id=\"igraph\" scrolling=\"no\" style=\"border:none;\" seamless=\"seamless\" src=\"https://plot.ly/~davidhoebbel/6.embed\" height=\"525px\" width=\"100%\"></iframe>"
      ],
      "text/plain": [
       "<plotly.tools.PlotlyDisplay object>"
      ]
     },
     "execution_count": 49,
     "metadata": {},
     "output_type": "execute_result"
    }
   ],
   "source": [
    "data = [go.Bar(\n",
    "            x=df_UrbSub_Emp2.index,\n",
    "            y=df_UrbSub_Emp2['Growth'],\n",
    "            name = 'Employment Growth 1990-2017'\n",
    "        \n",
    "    )]\n",
    "\n",
    "py.iplot(data, filename='basic-bar')"
   ]
  },
  {
   "cell_type": "code",
   "execution_count": 10,
   "metadata": {
    "scrolled": true
   },
   "outputs": [
    {
     "data": {
      "text/html": [
       "<iframe id=\"igraph\" scrolling=\"no\" style=\"border:none;\" seamless=\"seamless\" src=\"https://plot.ly/~davidhoebbel/6.embed\" height=\"525px\" width=\"100%\"></iframe>"
      ],
      "text/plain": [
       "<plotly.tools.PlotlyDisplay object>"
      ]
     },
     "execution_count": 10,
     "metadata": {},
     "output_type": "execute_result"
    }
   ],
   "source": [
    "data = [go.Bar(\n",
    "            x=df_UrbSub_Pop.index,\n",
    "            y=df_UrbSub_Pop['Growth'],\n",
    "            name = 'Population Growth 1970-2017'\n",
    "        \n",
    "    )]\n",
    "\n",
    "py.iplot(data, filename='basic-bar')"
   ]
  },
  {
   "cell_type": "code",
   "execution_count": 50,
   "metadata": {},
   "outputs": [
    {
     "data": {
      "text/html": [
       "<iframe id=\"igraph\" scrolling=\"no\" style=\"border:none;\" seamless=\"seamless\" src=\"https://plot.ly/~davidhoebbel/18.embed\" height=\"525px\" width=\"100%\"></iframe>"
      ],
      "text/plain": [
       "<plotly.tools.PlotlyDisplay object>"
      ]
     },
     "execution_count": 50,
     "metadata": {},
     "output_type": "execute_result"
    }
   ],
   "source": [
    "#Stacked bar chart that stacks urban/suburban Employment\n",
    "\n",
    "trace1 = go.Bar(\n",
    "    x=df_EU['cbsa'],\n",
    "    y=df_EU['Growth'],\n",
    "    name='Urban Growth',\n",
    "    hoverinfo='text',\n",
    "            text = df.index\n",
    ")\n",
    "trace2 = go.Bar(\n",
    "    x=df_ES['cbsa'],\n",
    "    y=df_ES['Growth'],\n",
    "    name='Suburban Growth',\n",
    "    hoverinfo='text',\n",
    "            text = df_PS.index\n",
    ")\n",
    "\n",
    "data = [trace1, trace2]\n",
    "layout = go.Layout(\n",
    "    barmode='group'\n",
    ")\n",
    "\n",
    "fig = go.Figure(data=data, layout=layout)\n",
    "py.iplot(fig, filename='grouped-bar')"
   ]
  },
  {
   "cell_type": "code",
   "execution_count": 41,
   "metadata": {
    "scrolled": true
   },
   "outputs": [
    {
     "data": {
      "text/html": [
       "<iframe id=\"igraph\" scrolling=\"no\" style=\"border:none;\" seamless=\"seamless\" src=\"https://plot.ly/~davidhoebbel/18.embed\" height=\"525px\" width=\"100%\"></iframe>"
      ],
      "text/plain": [
       "<plotly.tools.PlotlyDisplay object>"
      ]
     },
     "execution_count": 41,
     "metadata": {},
     "output_type": "execute_result"
    }
   ],
   "source": [
    "#Stacked bar chart that stacks urban/suburban population\n",
    "\n",
    "trace1 = go.Bar(\n",
    "    x=df['cbsa'],\n",
    "    y=df['Growth'],\n",
    "    name='Urban Growth',\n",
    "    hoverinfo='text',\n",
    "            text = df.index\n",
    ")\n",
    "trace2 = go.Bar(\n",
    "    x=df_PS['cbsa'],\n",
    "    y=df_PS['Growth'],\n",
    "    name='Suburban Growth',\n",
    "    hoverinfo='text',\n",
    "            text = df_PS.index\n",
    ")\n",
    "\n",
    "data = [trace1, trace2]\n",
    "layout = go.Layout(\n",
    "    barmode='group'\n",
    ")\n",
    "\n",
    "fig = go.Figure(data=data, layout=layout)\n",
    "py.iplot(fig, filename='grouped-bar')"
   ]
  },
  {
   "cell_type": "code",
   "execution_count": 51,
   "metadata": {},
   "outputs": [
    {
     "data": {
      "text/html": [
       "<iframe id=\"igraph\" scrolling=\"no\" style=\"border:none;\" seamless=\"seamless\" src=\"https://plot.ly/~davidhoebbel/4.embed\" height=\"525px\" width=\"100%\"></iframe>"
      ],
      "text/plain": [
       "<plotly.tools.PlotlyDisplay object>"
      ]
     },
     "execution_count": 51,
     "metadata": {},
     "output_type": "execute_result"
    }
   ],
   "source": [
    "#bubble chart that compares growth from 1990-2017 between Urban and Suburban Areas\n",
    "\n",
    "trace0 = go.Scatter(\n",
    "    x=df_EU['Growth'],\n",
    "    y=df_EU['pop_density'],\n",
    "    mode='markers',\n",
    "    name='Urban Growth',\n",
    "    marker=dict(\n",
    "        size=20),\n",
    "    hoverinfo='text',\n",
    "            text = df.index\n",
    "    )\n",
    "trace1 = go.Scatter(\n",
    "    x=df_ES['Growth'],\n",
    "    y=df_ES['pop_density'],\n",
    "    mode='markers',\n",
    "    name= 'Suburban Growth',\n",
    "    marker=dict(\n",
    "        size=20),\n",
    "    hoverinfo='text',\n",
    "            text = df_PS.index\n",
    "    )\n",
    "data = [trace0, trace1]\n",
    "py.iplot(data, filename='bubblechart-size')"
   ]
  },
  {
   "cell_type": "code",
   "execution_count": 44,
   "metadata": {},
   "outputs": [
    {
     "data": {
      "text/html": [
       "<iframe id=\"igraph\" scrolling=\"no\" style=\"border:none;\" seamless=\"seamless\" src=\"https://plot.ly/~davidhoebbel/4.embed\" height=\"525px\" width=\"100%\"></iframe>"
      ],
      "text/plain": [
       "<plotly.tools.PlotlyDisplay object>"
      ]
     },
     "execution_count": 44,
     "metadata": {},
     "output_type": "execute_result"
    }
   ],
   "source": [
    "#bubble chart that compares growth from 1970-2017 between Urban and Suburban Areas\n",
    "\n",
    "trace0 = go.Scatter(\n",
    "    x=df['Growth'],\n",
    "    y=df['pop_density'],\n",
    "    mode='markers',\n",
    "    name='Urban Growth',\n",
    "    marker=dict(\n",
    "        size=20),\n",
    "    hoverinfo='text',\n",
    "            text = df.index\n",
    "    )\n",
    "trace1 = go.Scatter(\n",
    "    x=df_PS['Growth'],\n",
    "    y=df_PS['pop_density'],\n",
    "    mode='markers',\n",
    "    name= 'Suburban Growth',\n",
    "    marker=dict(\n",
    "        size=20),\n",
    "    hoverinfo='text',\n",
    "            text = df_PS.index\n",
    "    )\n",
    "data = [trace0, trace1]\n",
    "py.iplot(data, filename='bubblechart-size')\n"
   ]
  },
  {
   "cell_type": "code",
   "execution_count": 52,
   "metadata": {},
   "outputs": [
    {
     "data": {
      "text/html": [
       "<iframe id=\"igraph\" scrolling=\"no\" style=\"border:none;\" seamless=\"seamless\" src=\"https://plot.ly/~davidhoebbel/12.embed\" height=\"525px\" width=\"100%\"></iframe>"
      ],
      "text/plain": [
       "<plotly.tools.PlotlyDisplay object>"
      ]
     },
     "execution_count": 52,
     "metadata": {},
     "output_type": "execute_result"
    }
   ],
   "source": [
    "#heat map comparison of urban vs suburban\n",
    "\n",
    "trace = go.Heatmap(z=df_UrbSub_Emp2['Growth'],\n",
    "                   x=df_UrbSub_Emp2['cbsa'],\n",
    "                   y=df_UrbSub_Emp2['Category'],\n",
    "                   hoverinfo='text',\n",
    "                                  text = df_UrbSub_Emp2.index)\n",
    "heat = [trace]\n",
    "py.iplot(heat, filename='labelled-heatmap')"
   ]
  },
  {
   "cell_type": "code",
   "execution_count": 45,
   "metadata": {
    "scrolled": true
   },
   "outputs": [
    {
     "data": {
      "text/html": [
       "<iframe id=\"igraph\" scrolling=\"no\" style=\"border:none;\" seamless=\"seamless\" src=\"https://plot.ly/~davidhoebbel/12.embed\" height=\"525px\" width=\"100%\"></iframe>"
      ],
      "text/plain": [
       "<plotly.tools.PlotlyDisplay object>"
      ]
     },
     "execution_count": 45,
     "metadata": {},
     "output_type": "execute_result"
    }
   ],
   "source": [
    "#heat map comparison of urban vs suburban\n",
    "\n",
    "trace = go.Heatmap(z=df_UrbSub_Pop2['Growth'],\n",
    "                   x=df_UrbSub_Pop2['cbsa'],\n",
    "                   y=df_UrbSub_Pop2['Category'],\n",
    "                   hoverinfo='text',\n",
    "                                  text = df_UrbSub_Pop2.index)\n",
    "heat = [trace]\n",
    "py.iplot(heat, filename='labelled-heatmap')"
   ]
  },
  {
   "cell_type": "code",
   "execution_count": null,
   "metadata": {
    "collapsed": true
   },
   "outputs": [],
   "source": [
    "# transposed_urbPop.iloc[5:52].plot(y='NY-NYC Urban')\n",
    "# plt.show()"
   ]
  }
 ],
 "metadata": {
  "kernelspec": {
   "display_name": "Python 3",
   "language": "python",
   "name": "python3"
  },
  "language_info": {
   "codemirror_mode": {
    "name": "ipython",
    "version": 3
   },
   "file_extension": ".py",
   "mimetype": "text/x-python",
   "name": "python",
   "nbconvert_exporter": "python",
   "pygments_lexer": "ipython3",
   "version": "3.6.3"
  }
 },
 "nbformat": 4,
 "nbformat_minor": 2
}
